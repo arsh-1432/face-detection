{
  "nbformat": 4,
  "nbformat_minor": 0,
  "metadata": {
    "colab": {
      "provenance": [],
      "authorship_tag": "ABX9TyO96mV6V8OLKSLTo1Rbmz59",
      "include_colab_link": true
    },
    "kernelspec": {
      "name": "python3",
      "display_name": "Python 3"
    },
    "language_info": {
      "name": "python"
    }
  },
  "cells": [
    {
      "cell_type": "markdown",
      "metadata": {
        "id": "view-in-github",
        "colab_type": "text"
      },
      "source": [
        "<a href=\"https://colab.research.google.com/github/arsh-1432/face-detection/blob/main/face_recognition.ipynb\" target=\"_parent\"><img src=\"https://colab.research.google.com/assets/colab-badge.svg\" alt=\"Open In Colab\"/></a>"
      ]
    },
    {
      "cell_type": "code",
      "execution_count": null,
      "metadata": {
        "colab": {
          "base_uri": "https://localhost:8080/"
        },
        "id": "Z7bSS5ssTNxj",
        "outputId": "ab236bdd-95cb-443a-f6bc-d1ff381cc20e"
      },
      "outputs": [
        {
          "output_type": "stream",
          "name": "stdout",
          "text": [
            "Requirement already satisfied: opencv-python in /usr/local/lib/python3.10/dist-packages (4.10.0.84)\n",
            "Requirement already satisfied: numpy>=1.21.2 in /usr/local/lib/python3.10/dist-packages (from opencv-python) (1.26.4)\n"
          ]
        }
      ],
      "source": [
        "pip install opencv-python"
      ]
    },
    {
      "cell_type": "code",
      "source": [
        "import cv2  #open cv library used in image processing, object detection, and video analysis"
      ],
      "metadata": {
        "id": "JI7W3TssWBxQ"
      },
      "execution_count": null,
      "outputs": []
    },
    {
      "cell_type": "code",
      "source": [
        "pip install numpy"
      ],
      "metadata": {
        "colab": {
          "base_uri": "https://localhost:8080/"
        },
        "id": "2M0LrzddWF69",
        "outputId": "84b61a62-3f48-4a77-8f56-ea89bded75af"
      },
      "execution_count": null,
      "outputs": [
        {
          "output_type": "stream",
          "name": "stdout",
          "text": [
            "Requirement already satisfied: numpy in /usr/local/lib/python3.10/dist-packages (1.26.4)\n"
          ]
        }
      ]
    },
    {
      "cell_type": "code",
      "source": [
        "pip install matplotlib #can be used to create various types of plots and visualizations"
      ],
      "metadata": {
        "colab": {
          "base_uri": "https://localhost:8080/"
        },
        "id": "ubJJlkSyWL0h",
        "outputId": "a7bbe265-9896-441d-e649-f4d6251b3c00"
      },
      "execution_count": null,
      "outputs": [
        {
          "output_type": "stream",
          "name": "stdout",
          "text": [
            "Requirement already satisfied: matplotlib in /usr/local/lib/python3.10/dist-packages (3.8.0)\n",
            "Requirement already satisfied: contourpy>=1.0.1 in /usr/local/lib/python3.10/dist-packages (from matplotlib) (1.3.1)\n",
            "Requirement already satisfied: cycler>=0.10 in /usr/local/lib/python3.10/dist-packages (from matplotlib) (0.12.1)\n",
            "Requirement already satisfied: fonttools>=4.22.0 in /usr/local/lib/python3.10/dist-packages (from matplotlib) (4.55.0)\n",
            "Requirement already satisfied: kiwisolver>=1.0.1 in /usr/local/lib/python3.10/dist-packages (from matplotlib) (1.4.7)\n",
            "Requirement already satisfied: numpy<2,>=1.21 in /usr/local/lib/python3.10/dist-packages (from matplotlib) (1.26.4)\n",
            "Requirement already satisfied: packaging>=20.0 in /usr/local/lib/python3.10/dist-packages (from matplotlib) (24.2)\n",
            "Requirement already satisfied: pillow>=6.2.0 in /usr/local/lib/python3.10/dist-packages (from matplotlib) (11.0.0)\n",
            "Requirement already satisfied: pyparsing>=2.3.1 in /usr/local/lib/python3.10/dist-packages (from matplotlib) (3.2.0)\n",
            "Requirement already satisfied: python-dateutil>=2.7 in /usr/local/lib/python3.10/dist-packages (from matplotlib) (2.8.2)\n",
            "Requirement already satisfied: six>=1.5 in /usr/local/lib/python3.10/dist-packages (from python-dateutil>=2.7->matplotlib) (1.16.0)\n"
          ]
        }
      ]
    },
    {
      "source": [
        "from IPython.display import display, Javascript\n",
        "from google.colab.output import eval_js\n",
        "from base64 import b64decode  # decodes a base64-encoded string into its original binary data.\n",
        "\n",
        "def take_photo(filename='photo.jpg', quality=0.8):  # take_photo that allows you to capture a photo using the webcam\n",
        "    js = Javascript('''\n",
        "    async function takePhoto(quality) {\n",
        "        const div = document.createElement('div');  //The <div> element will be used as a container to hold the webcam stream and the capture button.\n",
        "        const capture = document.createElement('button'); //This button will be used to trigger the capture of a photo from the webcam.\n",
        "        capture.textContent = 'Capture'; // Sets the text content of the capture button (capture) to 'Capture'. This text will be displayed on the button.\n",
        "        div.appendChild(capture);\n",
        "\n",
        "        const video = document.createElement('video');\n",
        "        video.style.display = 'block';\n",
        "        const stream = await navigator.mediaDevices.getUserMedia({video: true});\n",
        "\n",
        "        document.body.appendChild(div);\n",
        "        div.appendChild(video);\n",
        "        video.srcObject = stream;\n",
        "        await video.play();\n",
        "\n",
        "        // Resize the output to fit the video element.\n",
        "        google.colab.output.setIframeHeight(document.documentElement.scrollHeight, true);\n",
        "\n",
        "        // Wait for Capture to be clicked.\n",
        "        await new Promise((resolve) => capture.onclick = resolve);\n",
        "\n",
        "        const canvas = document.createElement('canvas');\n",
        "        canvas.width = video.videoWidth;\n",
        "        canvas.height = video.videoHeight;\n",
        "        canvas.getContext('2d').drawImage(video, 0, 0);\n",
        "        stream.getVideoTracks()[0].stop();\n",
        "        div.remove();\n",
        "        return canvas.toDataURL('image/jpeg', quality);  //The captured image is converted to a Base64-encoded JPEG image using canvas.toDataURL('image/jpeg', quality)\n",
        "    }\n",
        "    ''')\n",
        "    display(js)\n",
        "    data = eval_js('takePhoto({})'.format(quality))\n",
        "    binary = b64decode(data.split(',')[1])\n",
        "    with open(filename, 'wb') as f:\n",
        "        f.write(binary)\n",
        "    return filename\n"
      ],
      "cell_type": "code",
      "metadata": {
        "id": "WR8ZZNFbXCpx"
      },
      "execution_count": null,
      "outputs": []
    },
    {
      "source": [
        "from IPython.display import Image\n",
        "try:\n",
        "    filename = take_photo()    # The returned value is the filename where the photo is saved.\n",
        "    print('Saved to {}'.format(filename))\n",
        "    # Show the image which was just taken.\n",
        "    display(Image(filename))\n",
        "except Exception as err:\n",
        "    # Errors will be thrown if the user does not have a webcam or if they do not\n",
        "    # grant the page permission to access it.\n",
        "    print(str(err))\n"
      ],
      "cell_type": "code",
      "metadata": {
        "colab": {
          "base_uri": "https://localhost:8080/",
          "height": 514
        },
        "id": "TGzPM9pJXaq1",
        "outputId": "2cee1912-07fb-4e88-a74a-4c82e88d8e74"
      },
      "execution_count": null,
      "outputs": [
        {
          "output_type": "display_data",
          "data": {
            "text/plain": [
              "<IPython.core.display.Javascript object>"
            ],
            "application/javascript": [
              "\n",
              "    async function takePhoto(quality) {\n",
              "        const div = document.createElement('div');  //The <div> element will be used as a container to hold the webcam stream and the capture button.\n",
              "        const capture = document.createElement('button'); //This button will be used to trigger the capture of a photo from the webcam.\n",
              "        capture.textContent = 'Capture'; // Sets the text content of the capture button (capture) to 'Capture'. This text will be displayed on the button.\n",
              "        div.appendChild(capture);\n",
              "\n",
              "        const video = document.createElement('video');\n",
              "        video.style.display = 'block';\n",
              "        const stream = await navigator.mediaDevices.getUserMedia({video: true});\n",
              "\n",
              "        document.body.appendChild(div);\n",
              "        div.appendChild(video);\n",
              "        video.srcObject = stream;\n",
              "        await video.play();\n",
              "\n",
              "        // Resize the output to fit the video element.\n",
              "        google.colab.output.setIframeHeight(document.documentElement.scrollHeight, true);\n",
              "\n",
              "        // Wait for Capture to be clicked.\n",
              "        await new Promise((resolve) => capture.onclick = resolve);\n",
              "\n",
              "        const canvas = document.createElement('canvas');\n",
              "        canvas.width = video.videoWidth;\n",
              "        canvas.height = video.videoHeight;\n",
              "        canvas.getContext('2d').drawImage(video, 0, 0);\n",
              "        stream.getVideoTracks()[0].stop();\n",
              "        div.remove();\n",
              "        return canvas.toDataURL('image/jpeg', quality);  //The captured image is converted to a Base64-encoded JPEG image using canvas.toDataURL('image/jpeg', quality)\n",
              "    }\n",
              "    "
            ]
          },
          "metadata": {}
        },
        {
          "output_type": "stream",
          "name": "stdout",
          "text": [
            "Saved to photo.jpg\n"
          ]
        },
        {
          "output_type": "display_data",
          "data": {
            "image/jpeg": "[encoded data removed]",
            "text/plain": [
              "<IPython.core.display.Image object>"
            ]
          },
          "metadata": {}
        }
      ]
    },
    {
      "cell_type": "code",
      "source": [
        "import cv2\n",
        "\n",
        "img = cv2.imread('photo.jpg')  # Loads the image 'photo.jpg' using OpenCV's imread() function. The image is loaded in BGR (Blue-Green-Red) color format.\n",
        "gray_img=cv2.cvtColor(img,cv2.COLOR_BGR2GRAY)  #Converts the BGR image (img) to grayscale (gray_img) using cv2.cvtColor().\n",
        "#This step is essential for face detection, as many algorithms operate on grayscale images.\n",
        "\n",
        "\n",
        "#Loads the Haar cascade classifier for detecting\n",
        "face_cascade = cv2.CascadeClassifier(cv2.data.haarcascades + 'haarcascade_frontalface_default.xml')\n",
        "eye_cascade =cv2.CascadeClassifier(cv2.data.haarcascades + 'haarcascade_eye.xml')\n",
        "\n",
        "# detect all the faces in the image\n",
        "faces = face_cascade.detectMultiScale(gray_img,1.1,4)\n",
        "#1.1: Scale factor. Specifies how much the image size is reduced at each image scale.\n",
        "#4: Minimum number of neighbor rectangles that make up an object (in this case, faces).\n",
        "\n",
        "\n",
        "# print the number of faces detected\n",
        "print(f\"{len(faces)} faces detected in the image.\")\n",
        "\n"
      ],
      "metadata": {
        "id": "xvWu6ByXX1XD",
        "colab": {
          "base_uri": "https://localhost:8080/"
        },
        "outputId": "2a178cc0-6469-4bf9-bc21-f0515f95119e"
      },
      "execution_count": null,
      "outputs": [
        {
          "output_type": "stream",
          "name": "stdout",
          "text": [
            "1 faces detected in the image.\n"
          ]
        }
      ]
    },
    {
      "cell_type": "code",
      "source": [
        "# for every face, draw a green rectangle\n",
        "for x, y, width, height in faces:\n",
        "  cv2.rectangle(img, (x,y), (x + width, y + height), color=(0,255,255), thickness=2)\n",
        "\n",
        "#img: The image on which the rectangles will be drawn.\n",
        "#(x, y): Coordinates of the top-left corner of the rectangle (starting point).\n",
        "#(x + width, y + height): Coordinates of the bottom-right corner of the rectangle (ending point).\n",
        "#color=(0, 255, 255): Specifies the color of the rectangle as a tuple (B, G, R).\n",
        "#thickness=2: Specifies the thickness of the rectangle's border (in pixels)\n"
      ],
      "metadata": {
        "id": "cjmpp6V8Z8C4"
      },
      "execution_count": null,
      "outputs": []
    },
    {
      "cell_type": "code",
      "source": [
        "# save the image with rectangles\n",
        "cv2.imwrite(\"photo_detected.jpg\",img)"
      ],
      "metadata": {
        "id": "4DEfXTnTal28",
        "colab": {
          "base_uri": "https://localhost:8080/"
        },
        "outputId": "253d7514-a330-4864-b177-6fdb7c849bea"
      },
      "execution_count": null,
      "outputs": [
        {
          "output_type": "execute_result",
          "data": {
            "text/plain": [
              "True"
            ]
          },
          "metadata": {},
          "execution_count": 47
        }
      ]
    }
  ]
}